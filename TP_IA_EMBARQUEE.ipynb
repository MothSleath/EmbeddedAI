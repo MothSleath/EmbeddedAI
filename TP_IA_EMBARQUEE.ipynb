{
  "nbformat": 4,
  "nbformat_minor": 0,
  "metadata": {
    "colab": {
      "provenance": [],
      "include_colab_link": true
    },
    "kernelspec": {
      "name": "python3",
      "display_name": "Python 3"
    },
    "language_info": {
      "name": "python"
    }
  },
  "cells": [
    {
      "cell_type": "markdown",
      "metadata": {
        "id": "view-in-github",
        "colab_type": "text"
      },
      "source": [
        "<a href=\"https://colab.research.google.com/github/MothSleath/EmbeddedAI/blob/main/TP_IA_EMBARQUEE.ipynb\" target=\"_parent\"><img src=\"https://colab.research.google.com/assets/colab-badge.svg\" alt=\"Open In Colab\"/></a>"
      ]
    },
    {
      "cell_type": "markdown",
      "source": [
        "## **PRACTICAL SESSION 1** — Deep Learning for predictive maintenance"
      ],
      "metadata": {
        "id": "ZLQS0KLMycmb"
      }
    },
    {
      "cell_type": "markdown",
      "source": [
        "The dataset used is the **AI4I 2020** Predictive Maintenance Dataset, which contains 10,000 instances of industrial sensor data. Each instance represents the operating condition of a machine and is associated with a label indicating whether a failure has occurred and, if so, what type of failure it is.\n",
        "\n",
        "The 5 possible labels are:\n",
        "\n",
        "\n",
        "\n",
        "*   **TWF**: Tool Wear Failure\n",
        "*   **HDF**: Heat Dissipation Failure\n",
        "*   **PWF**: Power Failure\n",
        "*   **OSF**: Overstrain Failure\n",
        "*   **RNF**: Random Failure\n",
        "\n",
        "\n",
        "The data is available on eCAMPUS as CSV file called: \"ai4i2020.csv\"\n",
        "\n"
      ],
      "metadata": {
        "id": "3mjNAfgj4K1_"
      }
    },
    {
      "cell_type": "markdown",
      "source": [
        "## **PRACTICAL SESSION Goal** — Ceate a deep leanring model allowing to realize a predictive maintenance mission"
      ],
      "metadata": {
        "id": "4_LBMVsgRI9W"
      }
    },
    {
      "cell_type": "markdown",
      "source": [
        "## **1 - Analysis of the dataset**\n",
        "\n"
      ],
      "metadata": {
        "id": "wt7L0p4MbIIw"
      }
    },
    {
      "cell_type": "markdown",
      "source": [
        "All libraries used ***SHOULD BE PLACED*** in the code cell below"
      ],
      "metadata": {
        "id": "0JFIZ6mtRapt"
      }
    },
    {
      "cell_type": "code",
      "execution_count": 1,
      "metadata": {
        "id": "UQp7FGSb5Vlv"
      },
      "outputs": [],
      "source": [
        "import pandas as pd\n",
        "import numpy as np\n",
        "import matplotlib.pyplot as plt\n",
        "import seaborn as sns"
      ]
    },
    {
      "cell_type": "markdown",
      "source": [
        "**QUESTION:** Load dataset and display some lines of the csv file."
      ],
      "metadata": {
        "id": "eFRcS74MDeSf"
      }
    },
    {
      "cell_type": "code",
      "source": [
        "df = pd.read_csv('ai4i2020.csv')\n",
        "\n",
        "# Affichage des 5 premières lignes du DataFrame\n",
        "df.head()"
      ],
      "metadata": {
        "id": "9l044FZ_5-fN",
        "colab": {
          "base_uri": "https://localhost:8080/",
          "height": 224
        },
        "outputId": "328e67ef-9168-4ab1-8e22-06082b20ec9d"
      },
      "execution_count": 2,
      "outputs": [
        {
          "output_type": "execute_result",
          "data": {
            "text/plain": [
              "   UDI Product ID Type  Air temperature [K]  Process temperature [K]  \\\n",
              "0    1     M14860    M                298.1                    308.6   \n",
              "1    2     L47181    L                298.2                    308.7   \n",
              "2    3     L47182    L                298.1                    308.5   \n",
              "3    4     L47183    L                298.2                    308.6   \n",
              "4    5     L47184    L                298.2                    308.7   \n",
              "\n",
              "   Rotational speed [rpm]  Torque [Nm]  Tool wear [min]  Machine failure  TWF  \\\n",
              "0                    1551         42.8                0                0    0   \n",
              "1                    1408         46.3                3                0    0   \n",
              "2                    1498         49.4                5                0    0   \n",
              "3                    1433         39.5                7                0    0   \n",
              "4                    1408         40.0                9                0    0   \n",
              "\n",
              "   HDF  PWF  OSF  RNF  \n",
              "0    0    0    0    0  \n",
              "1    0    0    0    0  \n",
              "2    0    0    0    0  \n",
              "3    0    0    0    0  \n",
              "4    0    0    0    0  "
            ],
            "text/html": [
              "\n",
              "  <div id=\"df-06810c62-0a89-48e6-96c2-419bafbb7e3b\" class=\"colab-df-container\">\n",
              "    <div>\n",
              "<style scoped>\n",
              "    .dataframe tbody tr th:only-of-type {\n",
              "        vertical-align: middle;\n",
              "    }\n",
              "\n",
              "    .dataframe tbody tr th {\n",
              "        vertical-align: top;\n",
              "    }\n",
              "\n",
              "    .dataframe thead th {\n",
              "        text-align: right;\n",
              "    }\n",
              "</style>\n",
              "<table border=\"1\" class=\"dataframe\">\n",
              "  <thead>\n",
              "    <tr style=\"text-align: right;\">\n",
              "      <th></th>\n",
              "      <th>UDI</th>\n",
              "      <th>Product ID</th>\n",
              "      <th>Type</th>\n",
              "      <th>Air temperature [K]</th>\n",
              "      <th>Process temperature [K]</th>\n",
              "      <th>Rotational speed [rpm]</th>\n",
              "      <th>Torque [Nm]</th>\n",
              "      <th>Tool wear [min]</th>\n",
              "      <th>Machine failure</th>\n",
              "      <th>TWF</th>\n",
              "      <th>HDF</th>\n",
              "      <th>PWF</th>\n",
              "      <th>OSF</th>\n",
              "      <th>RNF</th>\n",
              "    </tr>\n",
              "  </thead>\n",
              "  <tbody>\n",
              "    <tr>\n",
              "      <th>0</th>\n",
              "      <td>1</td>\n",
              "      <td>M14860</td>\n",
              "      <td>M</td>\n",
              "      <td>298.1</td>\n",
              "      <td>308.6</td>\n",
              "      <td>1551</td>\n",
              "      <td>42.8</td>\n",
              "      <td>0</td>\n",
              "      <td>0</td>\n",
              "      <td>0</td>\n",
              "      <td>0</td>\n",
              "      <td>0</td>\n",
              "      <td>0</td>\n",
              "      <td>0</td>\n",
              "    </tr>\n",
              "    <tr>\n",
              "      <th>1</th>\n",
              "      <td>2</td>\n",
              "      <td>L47181</td>\n",
              "      <td>L</td>\n",
              "      <td>298.2</td>\n",
              "      <td>308.7</td>\n",
              "      <td>1408</td>\n",
              "      <td>46.3</td>\n",
              "      <td>3</td>\n",
              "      <td>0</td>\n",
              "      <td>0</td>\n",
              "      <td>0</td>\n",
              "      <td>0</td>\n",
              "      <td>0</td>\n",
              "      <td>0</td>\n",
              "    </tr>\n",
              "    <tr>\n",
              "      <th>2</th>\n",
              "      <td>3</td>\n",
              "      <td>L47182</td>\n",
              "      <td>L</td>\n",
              "      <td>298.1</td>\n",
              "      <td>308.5</td>\n",
              "      <td>1498</td>\n",
              "      <td>49.4</td>\n",
              "      <td>5</td>\n",
              "      <td>0</td>\n",
              "      <td>0</td>\n",
              "      <td>0</td>\n",
              "      <td>0</td>\n",
              "      <td>0</td>\n",
              "      <td>0</td>\n",
              "    </tr>\n",
              "    <tr>\n",
              "      <th>3</th>\n",
              "      <td>4</td>\n",
              "      <td>L47183</td>\n",
              "      <td>L</td>\n",
              "      <td>298.2</td>\n",
              "      <td>308.6</td>\n",
              "      <td>1433</td>\n",
              "      <td>39.5</td>\n",
              "      <td>7</td>\n",
              "      <td>0</td>\n",
              "      <td>0</td>\n",
              "      <td>0</td>\n",
              "      <td>0</td>\n",
              "      <td>0</td>\n",
              "      <td>0</td>\n",
              "    </tr>\n",
              "    <tr>\n",
              "      <th>4</th>\n",
              "      <td>5</td>\n",
              "      <td>L47184</td>\n",
              "      <td>L</td>\n",
              "      <td>298.2</td>\n",
              "      <td>308.7</td>\n",
              "      <td>1408</td>\n",
              "      <td>40.0</td>\n",
              "      <td>9</td>\n",
              "      <td>0</td>\n",
              "      <td>0</td>\n",
              "      <td>0</td>\n",
              "      <td>0</td>\n",
              "      <td>0</td>\n",
              "      <td>0</td>\n",
              "    </tr>\n",
              "  </tbody>\n",
              "</table>\n",
              "</div>\n",
              "    <div class=\"colab-df-buttons\">\n",
              "\n",
              "  <div class=\"colab-df-container\">\n",
              "    <button class=\"colab-df-convert\" onclick=\"convertToInteractive('df-06810c62-0a89-48e6-96c2-419bafbb7e3b')\"\n",
              "            title=\"Convert this dataframe to an interactive table.\"\n",
              "            style=\"display:none;\">\n",
              "\n",
              "  <svg xmlns=\"http://www.w3.org/2000/svg\" height=\"24px\" viewBox=\"0 -960 960 960\">\n",
              "    <path d=\"M120-120v-720h720v720H120Zm60-500h600v-160H180v160Zm220 220h160v-160H400v160Zm0 220h160v-160H400v160ZM180-400h160v-160H180v160Zm440 0h160v-160H620v160ZM180-180h160v-160H180v160Zm440 0h160v-160H620v160Z\"/>\n",
              "  </svg>\n",
              "    </button>\n",
              "\n",
              "  <style>\n",
              "    .colab-df-container {\n",
              "      display:flex;\n",
              "      gap: 12px;\n",
              "    }\n",
              "\n",
              "    .colab-df-convert {\n",
              "      background-color: #E8F0FE;\n",
              "      border: none;\n",
              "      border-radius: 50%;\n",
              "      cursor: pointer;\n",
              "      display: none;\n",
              "      fill: #1967D2;\n",
              "      height: 32px;\n",
              "      padding: 0 0 0 0;\n",
              "      width: 32px;\n",
              "    }\n",
              "\n",
              "    .colab-df-convert:hover {\n",
              "      background-color: #E2EBFA;\n",
              "      box-shadow: 0px 1px 2px rgba(60, 64, 67, 0.3), 0px 1px 3px 1px rgba(60, 64, 67, 0.15);\n",
              "      fill: #174EA6;\n",
              "    }\n",
              "\n",
              "    .colab-df-buttons div {\n",
              "      margin-bottom: 4px;\n",
              "    }\n",
              "\n",
              "    [theme=dark] .colab-df-convert {\n",
              "      background-color: #3B4455;\n",
              "      fill: #D2E3FC;\n",
              "    }\n",
              "\n",
              "    [theme=dark] .colab-df-convert:hover {\n",
              "      background-color: #434B5C;\n",
              "      box-shadow: 0px 1px 3px 1px rgba(0, 0, 0, 0.15);\n",
              "      filter: drop-shadow(0px 1px 2px rgba(0, 0, 0, 0.3));\n",
              "      fill: #FFFFFF;\n",
              "    }\n",
              "  </style>\n",
              "\n",
              "    <script>\n",
              "      const buttonEl =\n",
              "        document.querySelector('#df-06810c62-0a89-48e6-96c2-419bafbb7e3b button.colab-df-convert');\n",
              "      buttonEl.style.display =\n",
              "        google.colab.kernel.accessAllowed ? 'block' : 'none';\n",
              "\n",
              "      async function convertToInteractive(key) {\n",
              "        const element = document.querySelector('#df-06810c62-0a89-48e6-96c2-419bafbb7e3b');\n",
              "        const dataTable =\n",
              "          await google.colab.kernel.invokeFunction('convertToInteractive',\n",
              "                                                    [key], {});\n",
              "        if (!dataTable) return;\n",
              "\n",
              "        const docLinkHtml = 'Like what you see? Visit the ' +\n",
              "          '<a target=\"_blank\" href=https://colab.research.google.com/notebooks/data_table.ipynb>data table notebook</a>'\n",
              "          + ' to learn more about interactive tables.';\n",
              "        element.innerHTML = '';\n",
              "        dataTable['output_type'] = 'display_data';\n",
              "        await google.colab.output.renderOutput(dataTable, element);\n",
              "        const docLink = document.createElement('div');\n",
              "        docLink.innerHTML = docLinkHtml;\n",
              "        element.appendChild(docLink);\n",
              "      }\n",
              "    </script>\n",
              "  </div>\n",
              "\n",
              "\n",
              "<div id=\"df-e1de3809-a595-4e39-b0ab-b6f2653ddf3b\">\n",
              "  <button class=\"colab-df-quickchart\" onclick=\"quickchart('df-e1de3809-a595-4e39-b0ab-b6f2653ddf3b')\"\n",
              "            title=\"Suggest charts\"\n",
              "            style=\"display:none;\">\n",
              "\n",
              "<svg xmlns=\"http://www.w3.org/2000/svg\" height=\"24px\"viewBox=\"0 0 24 24\"\n",
              "     width=\"24px\">\n",
              "    <g>\n",
              "        <path d=\"M19 3H5c-1.1 0-2 .9-2 2v14c0 1.1.9 2 2 2h14c1.1 0 2-.9 2-2V5c0-1.1-.9-2-2-2zM9 17H7v-7h2v7zm4 0h-2V7h2v10zm4 0h-2v-4h2v4z\"/>\n",
              "    </g>\n",
              "</svg>\n",
              "  </button>\n",
              "\n",
              "<style>\n",
              "  .colab-df-quickchart {\n",
              "      --bg-color: #E8F0FE;\n",
              "      --fill-color: #1967D2;\n",
              "      --hover-bg-color: #E2EBFA;\n",
              "      --hover-fill-color: #174EA6;\n",
              "      --disabled-fill-color: #AAA;\n",
              "      --disabled-bg-color: #DDD;\n",
              "  }\n",
              "\n",
              "  [theme=dark] .colab-df-quickchart {\n",
              "      --bg-color: #3B4455;\n",
              "      --fill-color: #D2E3FC;\n",
              "      --hover-bg-color: #434B5C;\n",
              "      --hover-fill-color: #FFFFFF;\n",
              "      --disabled-bg-color: #3B4455;\n",
              "      --disabled-fill-color: #666;\n",
              "  }\n",
              "\n",
              "  .colab-df-quickchart {\n",
              "    background-color: var(--bg-color);\n",
              "    border: none;\n",
              "    border-radius: 50%;\n",
              "    cursor: pointer;\n",
              "    display: none;\n",
              "    fill: var(--fill-color);\n",
              "    height: 32px;\n",
              "    padding: 0;\n",
              "    width: 32px;\n",
              "  }\n",
              "\n",
              "  .colab-df-quickchart:hover {\n",
              "    background-color: var(--hover-bg-color);\n",
              "    box-shadow: 0 1px 2px rgba(60, 64, 67, 0.3), 0 1px 3px 1px rgba(60, 64, 67, 0.15);\n",
              "    fill: var(--button-hover-fill-color);\n",
              "  }\n",
              "\n",
              "  .colab-df-quickchart-complete:disabled,\n",
              "  .colab-df-quickchart-complete:disabled:hover {\n",
              "    background-color: var(--disabled-bg-color);\n",
              "    fill: var(--disabled-fill-color);\n",
              "    box-shadow: none;\n",
              "  }\n",
              "\n",
              "  .colab-df-spinner {\n",
              "    border: 2px solid var(--fill-color);\n",
              "    border-color: transparent;\n",
              "    border-bottom-color: var(--fill-color);\n",
              "    animation:\n",
              "      spin 1s steps(1) infinite;\n",
              "  }\n",
              "\n",
              "  @keyframes spin {\n",
              "    0% {\n",
              "      border-color: transparent;\n",
              "      border-bottom-color: var(--fill-color);\n",
              "      border-left-color: var(--fill-color);\n",
              "    }\n",
              "    20% {\n",
              "      border-color: transparent;\n",
              "      border-left-color: var(--fill-color);\n",
              "      border-top-color: var(--fill-color);\n",
              "    }\n",
              "    30% {\n",
              "      border-color: transparent;\n",
              "      border-left-color: var(--fill-color);\n",
              "      border-top-color: var(--fill-color);\n",
              "      border-right-color: var(--fill-color);\n",
              "    }\n",
              "    40% {\n",
              "      border-color: transparent;\n",
              "      border-right-color: var(--fill-color);\n",
              "      border-top-color: var(--fill-color);\n",
              "    }\n",
              "    60% {\n",
              "      border-color: transparent;\n",
              "      border-right-color: var(--fill-color);\n",
              "    }\n",
              "    80% {\n",
              "      border-color: transparent;\n",
              "      border-right-color: var(--fill-color);\n",
              "      border-bottom-color: var(--fill-color);\n",
              "    }\n",
              "    90% {\n",
              "      border-color: transparent;\n",
              "      border-bottom-color: var(--fill-color);\n",
              "    }\n",
              "  }\n",
              "</style>\n",
              "\n",
              "  <script>\n",
              "    async function quickchart(key) {\n",
              "      const quickchartButtonEl =\n",
              "        document.querySelector('#' + key + ' button');\n",
              "      quickchartButtonEl.disabled = true;  // To prevent multiple clicks.\n",
              "      quickchartButtonEl.classList.add('colab-df-spinner');\n",
              "      try {\n",
              "        const charts = await google.colab.kernel.invokeFunction(\n",
              "            'suggestCharts', [key], {});\n",
              "      } catch (error) {\n",
              "        console.error('Error during call to suggestCharts:', error);\n",
              "      }\n",
              "      quickchartButtonEl.classList.remove('colab-df-spinner');\n",
              "      quickchartButtonEl.classList.add('colab-df-quickchart-complete');\n",
              "    }\n",
              "    (() => {\n",
              "      let quickchartButtonEl =\n",
              "        document.querySelector('#df-e1de3809-a595-4e39-b0ab-b6f2653ddf3b button');\n",
              "      quickchartButtonEl.style.display =\n",
              "        google.colab.kernel.accessAllowed ? 'block' : 'none';\n",
              "    })();\n",
              "  </script>\n",
              "</div>\n",
              "\n",
              "    </div>\n",
              "  </div>\n"
            ],
            "application/vnd.google.colaboratory.intrinsic+json": {
              "type": "dataframe",
              "variable_name": "df",
              "summary": "{\n  \"name\": \"df\",\n  \"rows\": 10000,\n  \"fields\": [\n    {\n      \"column\": \"UDI\",\n      \"properties\": {\n        \"dtype\": \"number\",\n        \"std\": 2886,\n        \"min\": 1,\n        \"max\": 10000,\n        \"num_unique_values\": 10000,\n        \"samples\": [\n          6253,\n          4685,\n          1732\n        ],\n        \"semantic_type\": \"\",\n        \"description\": \"\"\n      }\n    },\n    {\n      \"column\": \"Product ID\",\n      \"properties\": {\n        \"dtype\": \"string\",\n        \"num_unique_values\": 10000,\n        \"samples\": [\n          \"L53432\",\n          \"M19544\",\n          \"M16591\"\n        ],\n        \"semantic_type\": \"\",\n        \"description\": \"\"\n      }\n    },\n    {\n      \"column\": \"Type\",\n      \"properties\": {\n        \"dtype\": \"category\",\n        \"num_unique_values\": 3,\n        \"samples\": [\n          \"M\",\n          \"L\",\n          \"H\"\n        ],\n        \"semantic_type\": \"\",\n        \"description\": \"\"\n      }\n    },\n    {\n      \"column\": \"Air temperature [K]\",\n      \"properties\": {\n        \"dtype\": \"number\",\n        \"std\": 2.0002586829157574,\n        \"min\": 295.3,\n        \"max\": 304.5,\n        \"num_unique_values\": 93,\n        \"samples\": [\n          299.3,\n          296.9,\n          300.8\n        ],\n        \"semantic_type\": \"\",\n        \"description\": \"\"\n      }\n    },\n    {\n      \"column\": \"Process temperature [K]\",\n      \"properties\": {\n        \"dtype\": \"number\",\n        \"std\": 1.4837342191657419,\n        \"min\": 305.7,\n        \"max\": 313.8,\n        \"num_unique_values\": 82,\n        \"samples\": [\n          307.2,\n          308.6,\n          310.1\n        ],\n        \"semantic_type\": \"\",\n        \"description\": \"\"\n      }\n    },\n    {\n      \"column\": \"Rotational speed [rpm]\",\n      \"properties\": {\n        \"dtype\": \"number\",\n        \"std\": 179,\n        \"min\": 1168,\n        \"max\": 2886,\n        \"num_unique_values\": 941,\n        \"samples\": [\n          1274,\n          1576,\n          2010\n        ],\n        \"semantic_type\": \"\",\n        \"description\": \"\"\n      }\n    },\n    {\n      \"column\": \"Torque [Nm]\",\n      \"properties\": {\n        \"dtype\": \"number\",\n        \"std\": 9.968933725121401,\n        \"min\": 3.8,\n        \"max\": 76.6,\n        \"num_unique_values\": 577,\n        \"samples\": [\n          36.1,\n          65.9,\n          12.6\n        ],\n        \"semantic_type\": \"\",\n        \"description\": \"\"\n      }\n    },\n    {\n      \"column\": \"Tool wear [min]\",\n      \"properties\": {\n        \"dtype\": \"number\",\n        \"std\": 63,\n        \"min\": 0,\n        \"max\": 253,\n        \"num_unique_values\": 246,\n        \"samples\": [\n          93,\n          14,\n          215\n        ],\n        \"semantic_type\": \"\",\n        \"description\": \"\"\n      }\n    },\n    {\n      \"column\": \"Machine failure\",\n      \"properties\": {\n        \"dtype\": \"number\",\n        \"std\": 0,\n        \"min\": 0,\n        \"max\": 1,\n        \"num_unique_values\": 2,\n        \"samples\": [\n          1,\n          0\n        ],\n        \"semantic_type\": \"\",\n        \"description\": \"\"\n      }\n    },\n    {\n      \"column\": \"TWF\",\n      \"properties\": {\n        \"dtype\": \"number\",\n        \"std\": 0,\n        \"min\": 0,\n        \"max\": 1,\n        \"num_unique_values\": 2,\n        \"samples\": [\n          1,\n          0\n        ],\n        \"semantic_type\": \"\",\n        \"description\": \"\"\n      }\n    },\n    {\n      \"column\": \"HDF\",\n      \"properties\": {\n        \"dtype\": \"number\",\n        \"std\": 0,\n        \"min\": 0,\n        \"max\": 1,\n        \"num_unique_values\": 2,\n        \"samples\": [\n          1,\n          0\n        ],\n        \"semantic_type\": \"\",\n        \"description\": \"\"\n      }\n    },\n    {\n      \"column\": \"PWF\",\n      \"properties\": {\n        \"dtype\": \"number\",\n        \"std\": 0,\n        \"min\": 0,\n        \"max\": 1,\n        \"num_unique_values\": 2,\n        \"samples\": [\n          1,\n          0\n        ],\n        \"semantic_type\": \"\",\n        \"description\": \"\"\n      }\n    },\n    {\n      \"column\": \"OSF\",\n      \"properties\": {\n        \"dtype\": \"number\",\n        \"std\": 0,\n        \"min\": 0,\n        \"max\": 1,\n        \"num_unique_values\": 2,\n        \"samples\": [\n          1,\n          0\n        ],\n        \"semantic_type\": \"\",\n        \"description\": \"\"\n      }\n    },\n    {\n      \"column\": \"RNF\",\n      \"properties\": {\n        \"dtype\": \"number\",\n        \"std\": 0,\n        \"min\": 0,\n        \"max\": 1,\n        \"num_unique_values\": 2,\n        \"samples\": [\n          1,\n          0\n        ],\n        \"semantic_type\": \"\",\n        \"description\": \"\"\n      }\n    }\n  ]\n}"
            }
          },
          "metadata": {},
          "execution_count": 2
        }
      ]
    },
    {
      "cell_type": "markdown",
      "source": [
        "**QUESTION:** Display the distribution of machine failures and non-failures with a bar graph."
      ],
      "metadata": {
        "id": "joQOXoqaD8JA"
      }
    },
    {
      "cell_type": "code",
      "source": [
        "plt.figure(figsize=(6, 4))\n",
        "sns.countplot(x='Machine failure', data=df)\n",
        "plt.title(\"Distribution of Machine Failure vs Non-Failure\")\n",
        "plt.xlabel(\"Machine failure (0 = No Failure, 1 = Failure)\")\n",
        "plt.ylabel(\"Count\")\n",
        "plt.show()"
      ],
      "metadata": {
        "id": "r3Q1l9JoMs7m",
        "colab": {
          "base_uri": "https://localhost:8080/",
          "height": 410
        },
        "outputId": "c31ed204-485d-441d-e8a3-305ee4ae83ba"
      },
      "execution_count": 3,
      "outputs": [
        {
          "output_type": "display_data",
          "data": {
            "text/plain": [
              "<Figure size 600x400 with 1 Axes>"
            ],
            "image/png": "[encoded data removed]"
          },
          "metadata": {}
        }
      ]
    },
    {
      "cell_type": "markdown",
      "source": [
        "**ANALYSIS QUESTION:** What do you observe?"
      ],
      "metadata": {
        "id": "vCNIqXVyEkrR"
      }
    },
    {
      "cell_type": "markdown",
      "source": [
        "La distribution montre qu’il existe un net déséquilibre entre les observations de machines en panne et celles qui ne le sont pas. Concrètement, la majorité des données correspond à des machines sans panne (valeur 0), tandis que la part de machines en panne (valeur 1) est beaucoup plus faible."
      ],
      "metadata": {
        "id": "6BMGtlIWE-C0"
      }
    },
    {
      "cell_type": "markdown",
      "source": [
        "**ANALYSIS QUESTION:** What will be the consequence of this phenomenon on the model's learning?"
      ],
      "metadata": {
        "id": "huU5I4x8SzlN"
      }
    },
    {
      "cell_type": "markdown",
      "source": [
        "Ce déséquilibre (class imbalance) risque de biaiser l’apprentissage du modèle. Concrètement, un modèle non ajusté aura tendance à prédire majoritairement l’absence de panne (classe majoritaire), ce qui peut conduire à une forte diminution du rappel (recall) et du F1-score pour la classe minoritaire (panne). Il sera donc nécessaire de mettre en place des stratégies de rééquilibrage (telles que l’oversampling, l’undersampling ou un ajustement des poids) pour améliorer la qualité des prédictions sur la classe minoritaire."
      ],
      "metadata": {
        "id": "JHmYROP0TLIS"
      }
    },
    {
      "cell_type": "markdown",
      "source": [
        "**QUESTION:** Create a bar chart showing the distribution of different failure types (TWF, HDF, PWF, OSF, RNF). Display the exact values above each bar in the chart.\""
      ],
      "metadata": {
        "id": "0s-mzCCsSasl"
      }
    },
    {
      "cell_type": "code",
      "source": [
        "failure_types = [\"TWF\", \"HDF\", \"PWF\", \"OSF\", \"RNF\"]\n",
        "\n",
        "# Calcul du nombre total de pannes pour chaque type\n",
        "failure_counts = df[failure_types].sum()\n",
        "\n",
        "# Création du bar chart\n",
        "plt.figure(figsize=(6, 4))\n",
        "bars = sns.barplot(x=failure_counts.index, y=failure_counts.values, palette=\"Blues\")\n",
        "\n",
        "# Ajout des valeurs exactes au-dessus de chaque barre\n",
        "for i, value in enumerate(failure_counts.values):\n",
        "    plt.text(i, value + 0.5, str(int(value)), ha='center', va='bottom', fontweight='bold')\n",
        "\n",
        "plt.title(\"Distribution of Different Failure Types\")\n",
        "plt.xlabel(\"Failure Type\")\n",
        "plt.ylabel(\"Count\")\n",
        "plt.ylim(top=failure_counts.max() * 1.1)  # Pour laisser de l'espace au texte\n",
        "plt.show()"
      ],
      "metadata": {
        "id": "nQyJCfamMdJN",
        "colab": {
          "base_uri": "https://localhost:8080/",
          "height": 517
        },
        "outputId": "7151076b-2754-45ab-efb4-8967aefbdbd8"
      },
      "execution_count": 4,
      "outputs": [
        {
          "output_type": "stream",
          "name": "stderr",
          "text": [
            "<ipython-input-4-db8c9968b2fc>:8: FutureWarning: \n",
            "\n",
            "Passing `palette` without assigning `hue` is deprecated and will be removed in v0.14.0. Assign the `x` variable to `hue` and set `legend=False` for the same effect.\n",
            "\n",
            "  bars = sns.barplot(x=failure_counts.index, y=failure_counts.values, palette=\"Blues\")\n"
          ]
        },
        {
          "output_type": "display_data",
          "data": {
            "text/plain": [
              "<Figure size 600x400 with 1 Axes>"
            ],
            "image/png": "[encoded data removed]"
          },
          "metadata": {}
        }
      ]
    },
    {
      "cell_type": "markdown",
      "source": [
        "**ANALYSIS QUESTION:** What do you observe?"
      ],
      "metadata": {
        "id": "NXyHa73yU8g_"
      }
    },
    {
      "cell_type": "markdown",
      "source": [
        "En observant le bar chart, on constate que :\n",
        "\n",
        "HDF (Heat Dissipation Failure) est le type de panne le plus fréquent (115 occurrences).\n",
        "OSF (Overstrain Failure) et PWF (Power Failure) ont également un nombre élevé d’occurrences (98 et 95 respectivement).\n",
        "TWF (Tool Wear Failure) et surtout RNF (Random Failure) sont moins fréquents, avec 46 occurrences pour TWF et 19 pour RNF.\n",
        "Cette répartition inégale suggère que certaines catégories de panne (HDF, OSF, PWF) sont surreprésentées par rapport à d’autres (TWF, RNF). Cela peut avoir un impact sur la modélisation et la précision du modèle pour les pannes moins fréquentes."
      ],
      "metadata": {
        "id": "WRDFE_dsVBBU"
      }
    },
    {
      "cell_type": "markdown",
      "source": [
        "**QUESTION:** Create a bar chart showing the distribution of failure types (TWF, HDF, PWF, OSF, RNF) among machines that experienced a failure (Machine failure == 1). Additionally, add a \"No Specific Failure\" category to count cases where a machine failed but no specific failure type was recorded. Display the exact values above each bar in the chart.\""
      ],
      "metadata": {
        "id": "cvaO2bEIMxLd"
      }
    },
    {
      "cell_type": "code",
      "source": [
        "# Filtrer uniquement les machines ayant subi une panne (Machine failure == 1)\n",
        "df_failures = df[df[\"Machine failure\"] == 1].copy()\n",
        "\n",
        "# Liste des types de pannes disponibles\n",
        "failure_types = [\"TWF\", \"HDF\", \"PWF\", \"OSF\", \"RNF\"]\n",
        "\n",
        "# Calcul du nombre total de pannes pour chaque type parmi les machines en panne\n",
        "counts = df_failures[failure_types].sum()\n",
        "\n",
        "# Calcul du nombre de machines en panne sans type de panne spécifique\n",
        "no_specific_failure_count = df_failures[\n",
        "    (df_failures[\"TWF\"] == 0) &\n",
        "    (df_failures[\"HDF\"] == 0) &\n",
        "    (df_failures[\"PWF\"] == 0) &\n",
        "    (df_failures[\"OSF\"] == 0) &\n",
        "    (df_failures[\"RNF\"] == 0)\n",
        "].shape[0]\n",
        "\n",
        "# Ajouter la catégorie \"No Specific Failure\" en utilisant pd.concat\n",
        "counts = pd.concat([\n",
        "    counts,\n",
        "    pd.Series([no_specific_failure_count], index=[\"No Specific Failure\"])\n",
        "])\n",
        "\n",
        "# Visualisation\n",
        "plt.figure(figsize=(7, 4))\n",
        "sns.set_style(\"whitegrid\")\n",
        "bars = sns.barplot(x=counts.index, y=counts.values, palette=\"Blues\")\n",
        "\n",
        "# Affichage de la valeur exacte au-dessus de chaque barre\n",
        "for i, value in enumerate(counts.values):\n",
        "    plt.text(i, value + 0.5, str(int(value)), ha='center', va='bottom', fontweight='bold')\n",
        "\n",
        "plt.title(\"Distribution of Failure Types Among Machines That Experienced a Failure\")\n",
        "plt.xlabel(\"Failure Type\")\n",
        "plt.ylabel(\"Count\")\n",
        "plt.ylim(top=counts.max() * 1.1)\n",
        "plt.show()"
      ],
      "metadata": {
        "id": "e97htGyyMsle",
        "colab": {
          "base_uri": "https://localhost:8080/",
          "height": 517
        },
        "outputId": "ef0e705d-cf86-4cf6-9129-becb9d3d59c1"
      },
      "execution_count": 6,
      "outputs": [
        {
          "output_type": "stream",
          "name": "stderr",
          "text": [
            "<ipython-input-6-5f36bedb3d99>:28: FutureWarning: \n",
            "\n",
            "Passing `palette` without assigning `hue` is deprecated and will be removed in v0.14.0. Assign the `x` variable to `hue` and set `legend=False` for the same effect.\n",
            "\n",
            "  bars = sns.barplot(x=counts.index, y=counts.values, palette=\"Blues\")\n"
          ]
        },
        {
          "output_type": "display_data",
          "data": {
            "text/plain": [
              "<Figure size 700x400 with 1 Axes>"
            ],
            "image/png": "[encoded data removed]"
          },
          "metadata": {}
        }
      ]
    },
    {
      "cell_type": "markdown",
      "source": [
        "**ANALYSIS QUESTION:** What do you obsrve comapred to the previous question ? What can you conclude?"
      ],
      "metadata": {
        "id": "U6_3vAQCOUGb"
      }
    },
    {
      "cell_type": "markdown",
      "source": [
        "Par rapport à la précédente répartition (où l’on comptait toutes les pannes potentielles dans le jeu de données), ce graphique se concentre exclusivement sur les machines qui ont réellement subi une panne (Machine failure == 1). On remarque :\n",
        "\n",
        "Répartition des pannes spécifiques :\n",
        "\n",
        "HDF (Heat Dissipation Failure) reste la catégorie la plus fréquente (115), suivie de près par OSF (Overstrain Failure) et PWF (Power Failure).\n",
        "TWF (Tool Wear Failure) reste moins représentée (46).\n",
        "RNF (Random Failure) est ici très rare (1 seule occurrence) alors qu’elle pouvait paraître plus fréquente quand on regardait l’ensemble des données (ou qu’elle était mal classifiée).\n",
        "Apparition de « No Specific Failure » :\n",
        "\n",
        "Il y a 9 machines qui sont tombées en panne mais dont aucune des colonnes TWF, HDF, PWF, OSF ou RNF n’est activée. Cela signifie que, bien qu’elles soient en panne, elles ne correspondent à aucun des types de pannes connus.\n",
        "Ce phénomène peut refléter des pannes « non classifiées » ou « incomplètement renseignées » dans le dataset.\n",
        "Conclusion\n",
        "\n",
        "Lorsqu’on isole uniquement les machines défaillantes, la majorité de ces défaillances correspondent à l’une des cinq catégories définies (surtout HDF, OSF et PWF).\n",
        "L’existence d’une catégorie « No Specific Failure » souligne la nécessité d’une meilleure classification ou d’informations supplémentaires pour comprendre et traiter ces pannes non répertoriées.\n",
        "Enfin, le très faible nombre de RNF (1) chez les machines réellement en panne indique soit qu’il s’agit d’un type de panne très rare, soit qu’il y a un potentiel problème de labellisation."
      ],
      "metadata": {
        "id": "i-6t7nqlOjMo"
      }
    },
    {
      "cell_type": "markdown",
      "source": [
        "**QUESTION:** Display the names of the different columns in the dataset with their respective data types."
      ],
      "metadata": {
        "id": "muXeS0eVVW6H"
      }
    },
    {
      "cell_type": "code",
      "source": [
        "df.info()"
      ],
      "metadata": {
        "id": "pa9Tptu7nPMp",
        "colab": {
          "base_uri": "https://localhost:8080/"
        },
        "outputId": "d3add52c-7e5a-4d5b-d7c9-0e2cec2a9d5a"
      },
      "execution_count": 7,
      "outputs": [
        {
          "output_type": "stream",
          "name": "stdout",
          "text": [
            "DataFrame Info:\n",
            "<class 'pandas.core.frame.DataFrame'>\n",
            "RangeIndex: 10000 entries, 0 to 9999\n",
            "Data columns (total 14 columns):\n",
            " #   Column                   Non-Null Count  Dtype  \n",
            "---  ------                   --------------  -----  \n",
            " 0   UDI                      10000 non-null  int64  \n",
            " 1   Product ID               10000 non-null  object \n",
            " 2   Type                     10000 non-null  object \n",
            " 3   Air temperature [K]      10000 non-null  float64\n",
            " 4   Process temperature [K]  10000 non-null  float64\n",
            " 5   Rotational speed [rpm]   10000 non-null  int64  \n",
            " 6   Torque [Nm]              10000 non-null  float64\n",
            " 7   Tool wear [min]          10000 non-null  int64  \n",
            " 8   Machine failure          10000 non-null  int64  \n",
            " 9   TWF                      10000 non-null  int64  \n",
            " 10  HDF                      10000 non-null  int64  \n",
            " 11  PWF                      10000 non-null  int64  \n",
            " 12  OSF                      10000 non-null  int64  \n",
            " 13  RNF                      10000 non-null  int64  \n",
            "dtypes: float64(3), int64(9), object(2)\n",
            "memory usage: 1.1+ MB\n"
          ]
        }
      ]
    },
    {
      "cell_type": "markdown",
      "source": [
        "**ANALYSIS QUESTION:** To train the model, what will be the inputs and outputs (What are the names of the columns that you will use?)? Justify your response.\n",
        "Remember, you want to predict if the machine will fail, and if so, what kind of failure. You need to yse previous results to jsurtify your response."
      ],
      "metadata": {
        "id": "cezua1bMVTCM"
      }
    },
    {
      "cell_type": "markdown",
      "source": [
        "Nous utiliserons en entrée : Type, Air temperature [K], Process temperature [K], Rotational speed [rpm], Torque [Nm] et Tool wear [min], en excluant UDI et Product ID car ils n’apportent pas d’informations utiles. Pour la sortie, nous prédirons d’abord si la machine tombe en panne (Machine failure, binaire 0/1), puis nous pourrons préciser le type de panne (TWF, HDF, PWF, OSF, RNF) afin de couvrir à la fois la survenue et la nature de la panne."
      ],
      "metadata": {
        "id": "0gy8oDgxbjol"
      }
    },
    {
      "cell_type": "markdown",
      "source": [
        "## **2- Train model Without balancing the dataset**\n",
        "\n",
        "---\n",
        "\n"
      ],
      "metadata": {
        "id": "CFXLkBzTiafx"
      }
    },
    {
      "cell_type": "markdown",
      "source": [
        "In this section, you must build and train a model without rebalancing the dataset."
      ],
      "metadata": {
        "id": "plBeUOCKvVNU"
      }
    },
    {
      "cell_type": "markdown",
      "source": [
        "**QUESTION:** Create X_train, Y_train, X_test, and Y_test. How many elements are present in X_train, Y_train, X_test, and Y_test? (Print the values)"
      ],
      "metadata": {
        "id": "yj7CMqdVbxg2"
      }
    },
    {
      "cell_type": "code",
      "source": [],
      "metadata": {
        "id": "Wdght-L8wQQQ"
      },
      "execution_count": null,
      "outputs": []
    },
    {
      "cell_type": "markdown",
      "source": [
        "**QUESTION** Code below the model architecture"
      ],
      "metadata": {
        "id": "eqBuZsqKdQ7u"
      }
    },
    {
      "cell_type": "code",
      "source": [],
      "metadata": {
        "id": "F35j0VRDdNLc"
      },
      "execution_count": null,
      "outputs": []
    },
    {
      "cell_type": "markdown",
      "source": [
        "**QUESTION** Code below the algorithms allowing to train model\n",
        "\n",
        "**WARNING!** You need to plot the training and test accuracy and loss to check if our model is overfitting"
      ],
      "metadata": {
        "id": "dIONoP2Jdg8Q"
      }
    },
    {
      "cell_type": "code",
      "source": [],
      "metadata": {
        "id": "jJ2bYxZydhW2"
      },
      "execution_count": null,
      "outputs": []
    },
    {
      "cell_type": "markdown",
      "source": [
        "**QUESTION** Plot the confusion matrix and the classification report"
      ],
      "metadata": {
        "id": "yvmyHnqYpbf-"
      }
    },
    {
      "cell_type": "markdown",
      "source": [
        "**Tips:**\n",
        "\n",
        "*   classification report link\n",
        "\n",
        "> https://scikit-learn.org/stable/modules/generated/sklearn.metrics.classification_report.html\n",
        "\n",
        "*   Matrix confusion\n",
        "\n",
        "> https://scikit-learn.org/stable/modules/generated/sklearn.metrics.ConfusionMatrixDisplay.html\n",
        "\n",
        "\n",
        "\n"
      ],
      "metadata": {
        "id": "FUXSeJ1ZpsSP"
      }
    },
    {
      "cell_type": "code",
      "source": [],
      "metadata": {
        "id": "m4q5wvHNnAdu"
      },
      "execution_count": null,
      "outputs": []
    },
    {
      "cell_type": "markdown",
      "source": [
        "**ANALYSIS QUESTION** What do you observe? What can you conclude?"
      ],
      "metadata": {
        "id": "ImGsmryGkKhj"
      }
    },
    {
      "cell_type": "markdown",
      "source": [
        "\"Write your response here\""
      ],
      "metadata": {
        "id": "y1f5OneQknZy"
      }
    },
    {
      "cell_type": "markdown",
      "source": [
        "## **3- Train model With balancing the dataset**\n",
        "\n",
        "---"
      ],
      "metadata": {
        "id": "EYUyUAN5ji0x"
      }
    },
    {
      "cell_type": "markdown",
      "source": [
        " Methods for rebalancing a dataset:\n",
        "\n",
        "\n",
        "*   Use oversampling techniques (e.g., SMOTE) to generate synthetic data for minority classes\n",
        "\n",
        "\n",
        "> https://imbalanced-learn.org/stable/references/generated/imblearn.over_sampling.SMOTE.html\n",
        "\n",
        "\n",
        "\n",
        "*   Apply undersampling techniques (e.g., random undersampling, Tomek Links, Edited Nearest Neighbors) to reduce the majority class size\n",
        "\n",
        "\n",
        "\n",
        "> https://imbalanced-learn.org/stable/references/generated/imblearn.under_sampling.RandomUnderSampler.html\n",
        "\n",
        "\n",
        "\n",
        "*   Use class weighting during model training to penalize errors on minority classes\n",
        "\n",
        "\n",
        "\n",
        "> https://www.tensorflow.org/tutorials/structured_data/imbalanced_data?hl=fr\n"
      ],
      "metadata": {
        "id": "EQWut50JhKdD"
      }
    },
    {
      "cell_type": "markdown",
      "source": [
        "**QUESTION:** Create X_train, Y_train, X_test, and Y_test. How many elements are present in X_train, Y_train, X_test, and Y_test? (Print the values)"
      ],
      "metadata": {
        "id": "--pWJzaUnXdY"
      }
    },
    {
      "cell_type": "code",
      "source": [],
      "metadata": {
        "id": "aLW74cwbdr1U"
      },
      "execution_count": null,
      "outputs": []
    },
    {
      "cell_type": "markdown",
      "source": [
        "**ANALYSIS QUESTION:** Explain the choices you made to balance the dataset."
      ],
      "metadata": {
        "id": "-YcZXIadnbcm"
      }
    },
    {
      "cell_type": "markdown",
      "source": [
        "\"Write your response here\""
      ],
      "metadata": {
        "id": "Rku3pnWxnxhI"
      }
    },
    {
      "cell_type": "markdown",
      "source": [
        "**QUESTION:** Code below the model architecture\n"
      ],
      "metadata": {
        "id": "BVryPCQFn4Dd"
      }
    },
    {
      "cell_type": "markdown",
      "source": [
        "**TIP:** It could be interesting to keep it the same as before"
      ],
      "metadata": {
        "id": "Q5BGfI7TpVDD"
      }
    },
    {
      "cell_type": "code",
      "source": [],
      "metadata": {
        "id": "S0UbMHN6OC51"
      },
      "execution_count": null,
      "outputs": []
    },
    {
      "cell_type": "markdown",
      "source": [
        "**QUESTION** Code below the algorithms allowing to train model\n"
      ],
      "metadata": {
        "id": "wBZyS7DdofFq"
      }
    },
    {
      "cell_type": "code",
      "source": [],
      "metadata": {
        "id": "my6Ck5JbMDOG"
      },
      "execution_count": null,
      "outputs": []
    },
    {
      "cell_type": "markdown",
      "source": [
        "**QUESTION** Plot the confusion matrix and the classification report"
      ],
      "metadata": {
        "id": "77ftkfv5oqp0"
      }
    },
    {
      "cell_type": "code",
      "source": [],
      "metadata": {
        "id": "kRmkOI_co5d9"
      },
      "execution_count": null,
      "outputs": []
    },
    {
      "cell_type": "markdown",
      "source": [
        "**ANALYSIS QUESTION** What do you observe? What can you conclude?"
      ],
      "metadata": {
        "id": "Zn5BBAI3pHXf"
      }
    },
    {
      "cell_type": "markdown",
      "source": [
        "\"Write your response here\""
      ],
      "metadata": {
        "id": "SIf8rfU9pIGd"
      }
    }
  ]
}